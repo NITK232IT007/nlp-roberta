{
 "cells": [
  {
   "cell_type": "code",
   "execution_count": 1,
   "id": "c22aa9b7",
   "metadata": {},
   "outputs": [
    {
     "name": "stdout",
     "output_type": "stream",
     "text": [
      "Average for ROUGE-L:\n",
      "Avg_Recall       0.407237\n",
      "Avg_Precision    0.409190\n",
      "Avg_F-Score      0.400785\n",
      "dtype: float64\n",
      "\n",
      "Average for ROUGE-1:\n",
      "Avg_Recall       0.463334\n",
      "Avg_Precision    0.489693\n",
      "Avg_F-Score      0.463227\n",
      "dtype: float64\n",
      "\n",
      "Average for ROUGE-2:\n",
      "Avg_Recall       0.238975\n",
      "Avg_Precision    0.245526\n",
      "Avg_F-Score      0.232474\n",
      "dtype: float64\n",
      "\n",
      "Average for ROUGE-SU4:\n",
      "Avg_Recall       0.318208\n",
      "Avg_Precision    0.257923\n",
      "Avg_F-Score      0.274925\n",
      "dtype: float64\n"
     ]
    }
   ],
   "source": [
    "import pandas as pd\n",
    "\n",
    "# Assuming your data is in a CSV file named 'your_dataset.csv'\n",
    "# If it's in a different format, adjust the read function accordingly\n",
    "df = pd.read_csv('./results.csv')\n",
    "\n",
    "# Separate data for each ROUGE category\n",
    "rouge_l_data = df[df['ROUGE-Type'] == 'ROUGE-L+StopWordRemoval']\n",
    "rouge_1_data = df[df['ROUGE-Type'] == 'ROUGE-1+StopWordRemoval']\n",
    "rouge_2_data = df[df['ROUGE-Type'] == 'ROUGE-2+StopWordRemoval']\n",
    "rouge_su4_data = df[df['ROUGE-Type'] == 'ROUGE-SU4+StopWordRemoval']\n",
    "\n",
    "# Calculate averages for each category\n",
    "avg_rouge_l = rouge_l_data[['Avg_Recall', 'Avg_Precision', 'Avg_F-Score']].mean()\n",
    "avg_rouge_1 = rouge_1_data[['Avg_Recall', 'Avg_Precision', 'Avg_F-Score']].mean()\n",
    "avg_rouge_2 = rouge_2_data[['Avg_Recall', 'Avg_Precision', 'Avg_F-Score']].mean()\n",
    "avg_rouge_su4 = rouge_su4_data[['Avg_Recall', 'Avg_Precision', 'Avg_F-Score']].mean()\n",
    "\n",
    "# Print the results with labels\n",
    "print(\"Average for ROUGE-L:\")\n",
    "print(avg_rouge_l)\n",
    "\n",
    "print(\"\\nAverage for ROUGE-1:\")\n",
    "print(avg_rouge_1)\n",
    "\n",
    "print(\"\\nAverage for ROUGE-2:\")\n",
    "print(avg_rouge_2)\n",
    "\n",
    "print(\"\\nAverage for ROUGE-SU4:\")\n",
    "print(avg_rouge_su4)\n",
    "\n",
    "\n",
    "## Method 1 results"
   ]
  },
  {
   "cell_type": "code",
   "execution_count": null,
   "id": "61b4403d",
   "metadata": {},
   "outputs": [],
   "source": []
  }
 ],
 "metadata": {
  "kernelspec": {
   "display_name": "Python 3 (ipykernel)",
   "language": "python",
   "name": "python3"
  },
  "language_info": {
   "codemirror_mode": {
    "name": "ipython",
    "version": 3
   },
   "file_extension": ".py",
   "mimetype": "text/x-python",
   "name": "python",
   "nbconvert_exporter": "python",
   "pygments_lexer": "ipython3",
   "version": "3.9.18"
  }
 },
 "nbformat": 4,
 "nbformat_minor": 5
}
