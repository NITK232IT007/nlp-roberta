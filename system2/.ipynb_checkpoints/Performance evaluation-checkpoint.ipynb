{
 "cells": [
  {
   "cell_type": "code",
   "execution_count": 1,
   "id": "c22aa9b7",
   "metadata": {},
   "outputs": [
    {
     "name": "stdout",
     "output_type": "stream",
     "text": [
      "Average for ROUGE-L:\n",
      "Avg_Recall       0.372399\n",
      "Avg_Precision    0.319531\n",
      "Avg_F-Score      0.336470\n",
      "dtype: float64\n",
      "\n",
      "Average for ROUGE-1:\n",
      "Avg_Recall       0.425795\n",
      "Avg_Precision    0.436460\n",
      "Avg_F-Score      0.419005\n",
      "dtype: float64\n",
      "\n",
      "Average for ROUGE-2:\n",
      "Avg_Recall       0.181941\n",
      "Avg_Precision    0.169512\n",
      "Avg_F-Score      0.167766\n",
      "dtype: float64\n",
      "\n",
      "Average for ROUGE-SU4:\n",
      "Avg_Recall       0.268243\n",
      "Avg_Precision    0.200972\n",
      "Avg_F-Score      0.221473\n",
      "dtype: float64\n"
     ]
    }
   ],
   "source": [
    "import pandas as pd\n",
    "\n",
    "# Assuming your data is in a CSV file named 'your_dataset.csv'\n",
    "# If it's in a different format, adjust the read function accordingly\n",
    "df = pd.read_csv('./results.csv')\n",
    "\n",
    "# Separate data for each ROUGE category\n",
    "rouge_l_data = df[df['ROUGE-Type'] == 'ROUGE-L+StopWordRemoval']\n",
    "rouge_1_data = df[df['ROUGE-Type'] == 'ROUGE-1+StopWordRemoval']\n",
    "rouge_2_data = df[df['ROUGE-Type'] == 'ROUGE-2+StopWordRemoval']\n",
    "rouge_su4_data = df[df['ROUGE-Type'] == 'ROUGE-SU4+StopWordRemoval']\n",
    "\n",
    "# Calculate averages for each category\n",
    "avg_rouge_l = rouge_l_data[['Avg_Recall', 'Avg_Precision', 'Avg_F-Score']].mean()\n",
    "avg_rouge_1 = rouge_1_data[['Avg_Recall', 'Avg_Precision', 'Avg_F-Score']].mean()\n",
    "avg_rouge_2 = rouge_2_data[['Avg_Recall', 'Avg_Precision', 'Avg_F-Score']].mean()\n",
    "avg_rouge_su4 = rouge_su4_data[['Avg_Recall', 'Avg_Precision', 'Avg_F-Score']].mean()\n",
    "\n",
    "# Print the results with labels\n",
    "print(\"Average for ROUGE-L:\")\n",
    "print(avg_rouge_l)\n",
    "\n",
    "print(\"\\nAverage for ROUGE-1:\")\n",
    "print(avg_rouge_1)\n",
    "\n",
    "print(\"\\nAverage for ROUGE-2:\")\n",
    "print(avg_rouge_2)\n",
    "\n",
    "print(\"\\nAverage for ROUGE-SU4:\")\n",
    "print(avg_rouge_su4)\n",
    "\n",
    "\n",
    "## Method 1 results"
   ]
  },
  {
   "cell_type": "code",
   "execution_count": null,
   "id": "61b4403d",
   "metadata": {},
   "outputs": [],
   "source": []
  }
 ],
 "metadata": {
  "kernelspec": {
   "display_name": "Python 3 (ipykernel)",
   "language": "python",
   "name": "python3"
  },
  "language_info": {
   "codemirror_mode": {
    "name": "ipython",
    "version": 3
   },
   "file_extension": ".py",
   "mimetype": "text/x-python",
   "name": "python",
   "nbconvert_exporter": "python",
   "pygments_lexer": "ipython3",
   "version": "3.9.18"
  }
 },
 "nbformat": 4,
 "nbformat_minor": 5
}
